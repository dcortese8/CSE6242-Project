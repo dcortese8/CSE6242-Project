{
 "cells": [
  {
   "cell_type": "markdown",
   "metadata": {},
   "source": [
    "### Method 1: CPI Adjusted Revenue"
   ]
  },
  {
   "cell_type": "code",
   "execution_count": 1,
   "metadata": {},
   "outputs": [],
   "source": [
    "# import dependencies\n",
    "import pandas as pd"
   ]
  },
  {
   "cell_type": "code",
   "execution_count": 2,
   "metadata": {},
   "outputs": [
    {
     "data": {
      "text/plain": [
       "292.655"
      ]
     },
     "execution_count": 2,
     "metadata": {},
     "output_type": "execute_result"
    }
   ],
   "source": [
    "# read cpi and movies dataset\n",
    "movies = pd.read_csv('../data/cleaned_movie_and_credits.csv')\n",
    "cpi = pd.read_csv('../data/cpi.csv')\n",
    "\n",
    "# get cpi for base year\n",
    "cpi_base = cpi.loc[cpi['Year'] == 2022, 'Avg'].values[0]\n",
    "cpi_base"
   ]
  },
  {
   "cell_type": "code",
   "execution_count": 3,
   "metadata": {},
   "outputs": [],
   "source": [
    "# filter movies\n",
    "movies = movies[movies['release_year'] >= 1980]\n",
    "movies = movies[(movies['revenue'] != 0) & (movies['cast_size'] != 0)]"
   ]
  },
  {
   "cell_type": "code",
   "execution_count": 4,
   "metadata": {},
   "outputs": [],
   "source": [
    "# join on year\n",
    "df = movies.merge(cpi[['Year', 'Avg']], left_on='release_year', right_on='Year', how='left')\n",
    "#df.head()"
   ]
  },
  {
   "cell_type": "code",
   "execution_count": 5,
   "metadata": {},
   "outputs": [],
   "source": [
    "# create new col for revenue adjustment\n",
    "df['revenue_adjusted'] = df.apply(lambda row: (row['revenue'] / row['Avg']) * cpi_base, axis=1)"
   ]
  },
  {
   "cell_type": "code",
   "execution_count": 6,
   "metadata": {},
   "outputs": [],
   "source": [
    "# update column headers\n",
    "df = df.drop(columns=['Year'])\n",
    "df = df.rename(columns={'Avg': 'cpi'})"
   ]
  },
  {
   "cell_type": "code",
   "execution_count": 7,
   "metadata": {},
   "outputs": [],
   "source": [
    "# send to csv\n",
    "df.to_csv('../data/cleaned_movies_and_credits_filtered_revenue_adjusted.csv')"
   ]
  },
  {
   "cell_type": "markdown",
   "metadata": {},
   "source": [
    "### Method 2: Ticket Price Adjusted Revenue\n",
    "https://help.imdb.com/article/imdbpro/industry-research/box-office-mojo-by-imdbpro-faq/GCWTV4MQKGWRAUAP?ref_=mojo_ftr_help#"
   ]
  },
  {
   "cell_type": "code",
   "execution_count": 8,
   "metadata": {},
   "outputs": [],
   "source": [
    "# import ticket prices\n",
    "#tickets = pd.read_csv('../data/ticket-prices.csv')\n",
    "#tickets.columns\n",
    "\n",
    "# get ticket price for base year\n",
    "#ticket_base = tickets.loc[tickets['Year'] == 2020, ' Est. Avg. Price '].values[0]\n",
    "#ticket_base"
   ]
  },
  {
   "cell_type": "code",
   "execution_count": 9,
   "metadata": {},
   "outputs": [],
   "source": [
    "# combine year with ticket prices\n",
    "#df = df.merge(tickets, left_on='release_year', right_on='Year', how='left')"
   ]
  },
  {
   "cell_type": "code",
   "execution_count": 10,
   "metadata": {},
   "outputs": [],
   "source": [
    "# create new col for tickets sold\n",
    "#df['revenue_adjusted_tickets'] = df.apply(lambda row: (row['revenue'] / row[' Est. Avg. Price ']) * ticket_base, axis=1)"
   ]
  },
  {
   "cell_type": "code",
   "execution_count": 11,
   "metadata": {},
   "outputs": [],
   "source": [
    "# update column headers\n",
    "#df = df.drop(columns=['Year'])\n",
    "#df = df.rename(columns={' Est. Avg. Price ': 'avg_ticket_price'})"
   ]
  },
  {
   "cell_type": "code",
   "execution_count": 12,
   "metadata": {},
   "outputs": [],
   "source": [
    "# send to csv\n",
    "#df.to_csv('../data/cleaned_movies_revenue_adjusted.csv')"
   ]
  }
 ],
 "metadata": {
  "kernelspec": {
   "display_name": "Python 3",
   "language": "python",
   "name": "python3"
  },
  "language_info": {
   "codemirror_mode": {
    "name": "ipython",
    "version": 3
   },
   "file_extension": ".py",
   "mimetype": "text/x-python",
   "name": "python",
   "nbconvert_exporter": "python",
   "pygments_lexer": "ipython3",
   "version": "3.9.0"
  }
 },
 "nbformat": 4,
 "nbformat_minor": 4
}
