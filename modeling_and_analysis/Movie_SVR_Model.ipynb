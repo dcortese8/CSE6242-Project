{
 "cells": [
  {
   "cell_type": "code",
   "execution_count": 21,
   "id": "095ddc74",
   "metadata": {},
   "outputs": [],
   "source": [
    "import pandas as pd\n",
    "import numpy as np\n",
    "import scipy as sp\n",
    "from sklearn.ensemble import RandomForestRegressor\n",
    "from sklearn.datasets import make_regression\n",
    "from sklearn.model_selection import train_test_split\n",
    "from sklearn.feature_selection import SelectKBest, f_regression\n",
    "import matplotlib.pyplot as plt\n",
    "import seaborn as sns\n",
    "from sklearn.preprocessing import MinMaxScaler\n",
    "from sklearn.preprocessing import StandardScaler\n",
    "from sklearn.svm import SVR\n",
    "\n",
    "#Steps from https://medium.com/pursuitnotes/support-vector-regression-in-6-steps-with-python-c4569acd062d"
   ]
  },
  {
   "cell_type": "code",
   "execution_count": 22,
   "id": "94afa4ea",
   "metadata": {},
   "outputs": [],
   "source": [
    "df = pd.read_csv(\"C:\\\\Users\\\\corts033\\\\Documents\\\\Personal\\\\Geo Tech\\\\CSE 6242\\\\Project\\\\cleaned_movies_NEW.csv\")"
   ]
  },
  {
   "cell_type": "code",
   "execution_count": 23,
   "id": "3dbe459c",
   "metadata": {},
   "outputs": [
    {
     "data": {
      "text/plain": [
       "Index(['budget', 'homepage', 'movie_id', 'original_language', 'original_title',\n",
       "       'overview', 'popularity', 'release_date', 'revenue', 'runtime',\n",
       "       'status', 'tagline', 'title', 'vote_average', 'vote_count',\n",
       "       'release_year', 'release_month', 'day_of_week_release', 'has_homepage',\n",
       "       'num_spoken_languages', 'num_production_companies', 'num_genres',\n",
       "       'genre_Horror', 'genre_War', 'genre_Adventure', 'genre_Western',\n",
       "       'genre_Comedy', 'genre_Mystery', 'genre_Romance',\n",
       "       'genre_Science_Fiction', 'genre_Action', 'genre_Thriller',\n",
       "       'genre_Crime', 'genre_TV_Movie', 'genre_Animation', 'genre_Foreign',\n",
       "       'genre_Fantasy', 'genre_Drama', 'genre_Documentary', 'genre_Family',\n",
       "       'genre_Music', 'genre_History', 'keywords_list',\n",
       "       'production_companies_list', 'production_countries_list', 'cast_size',\n",
       "       'cast_member_list', 'cast_1', 'cast_2', 'cast_3', 'cast_4', 'cast_5',\n",
       "       'cpi', 'revenue_adjusted', 'holiday_release', 'cast_1_vote_average',\n",
       "       'cast_1_movie_count', 'cast_2_vote_average', 'cast_2_movie_count',\n",
       "       'cast_3_vote_average', 'cast_3_movie_count', 'cast_4_vote_average',\n",
       "       'cast_4_movie_count', 'cast_5_vote_average', 'cast_5_movie_count',\n",
       "       'keywords_holiday_celebrate', 'keywords_violence_war_crime',\n",
       "       'keywords_superhero', 'keywords_creditstinger_3d',\n",
       "       'keywords_womandirector_independentfilm',\n",
       "       'keywords_future_robots_aliens',\n",
       "       'keywords_edgy_alcohol_drug_sex_nudity', 'keywords_music',\n",
       "       'keywords_animal_nature', 'jan_release', 'feb_release', 'mar_release',\n",
       "       'apr_release', 'may_release', 'jun_release', 'jul_release',\n",
       "       'aug_release', 'sep_release', 'oct_release', 'nov_release',\n",
       "       'dec_release', 'sun_release', 'mon_release', 'tue_release',\n",
       "       'wed_release', 'thur_release', 'fri_release', 'sat_release'],\n",
       "      dtype='object')"
      ]
     },
     "execution_count": 23,
     "metadata": {},
     "output_type": "execute_result"
    }
   ],
   "source": [
    "df.columns"
   ]
  },
  {
   "cell_type": "code",
   "execution_count": 19,
   "id": "8eb7ff28",
   "metadata": {},
   "outputs": [
    {
     "name": "stdout",
     "output_type": "stream",
     "text": [
      "     revenue_adjusted\n",
      "1        1.356688e+09\n",
      "2        1.087407e+09\n",
      "3        1.382932e+09\n",
      "4        3.621816e+08\n",
      "5        1.257685e+09\n",
      "..                ...\n",
      "102      1.107955e+09\n",
      "103      9.389074e+07\n",
      "104      1.301563e+09\n",
      "105      3.425335e+08\n",
      "106      4.539040e+08\n",
      "\n",
      "[99 rows x 1 columns]\n"
     ]
    }
   ],
   "source": [
    "df.drop_duplicates(keep='first', inplace=True)\n",
    "y = df[['revenue_adjusted']]\n",
    "print(y[1:100])\n",
    "X = df[['budget','runtime',\n",
    "        'jan_release','feb_release','mar_release','apr_release','may_release',\n",
    "       'jun_release','jul_release','aug_release','sep_release','oct_release',\n",
    "       'nov_release','dec_release','sun_release','mon_release','tue_release',\n",
    "       'wed_release','thur_release','fri_release','sat_release',\n",
    "        'genre_Horror', 'genre_War',\n",
    "       'genre_Adventure', 'genre_Western', 'genre_Comedy', 'genre_Mystery',\n",
    "       'genre_Romance', 'genre_Science_Fiction', 'genre_Action',\n",
    "       'genre_Thriller', 'genre_Crime', 'genre_TV_Movie', 'genre_Animation',\n",
    "       'genre_Foreign', 'genre_Fantasy', 'genre_Drama', 'genre_Documentary',\n",
    "       'genre_Family', 'genre_Music', 'genre_History','cast_size','holiday_release', 'cast_1_vote_average',\n",
    "       'cast_1_movie_count', 'cast_2_vote_average', 'cast_2_movie_count',\n",
    "       'cast_3_vote_average', 'cast_3_movie_count', 'cast_4_vote_average',\n",
    "       'cast_4_movie_count', 'cast_5_vote_average', 'cast_5_movie_count',\n",
    "       'keywords_holiday_celebrate', 'keywords_violence_war_crime',\n",
    "       'keywords_superhero', 'keywords_creditstinger_3d',\n",
    "       'keywords_womandirector_independentfilm',\n",
    "       'keywords_future_robots_aliens',\n",
    "       'keywords_edgy_alcohol_drug_sex_nudity', 'keywords_music',\n",
    "       'keywords_animal_nature']]\n",
    "X = X.fillna(0)\n",
    "\n",
    "cols = X.columns\n",
    "\n",
    "\n",
    "#Feature scaling basically helps to normalize the data within a particular range. Normally several common class types contain the feature scaling function so that they make feature scaling automatically. \n",
    "sc_X = StandardScaler()\n",
    "sc_y = StandardScaler()\n",
    "X = sc_X.fit_transform(X)\n",
    "y = sc_y.fit_transform(y)\n",
    "\n",
    "\n",
    "#scaler = MinMaxScaler()\n",
    "#scaler.fit(X)\n",
    "\n",
    "#X = pd.DataFrame(scaler.transform(X), columns=cols)"
   ]
  },
  {
   "cell_type": "code",
   "execution_count": 24,
   "id": "a84c08fb",
   "metadata": {},
   "outputs": [],
   "source": [
    "X_train, X_test, y_train, y_test = train_test_split(X, y, train_size=0.80, test_size=0.20, random_state=42)"
   ]
  },
  {
   "cell_type": "code",
   "execution_count": 6,
   "id": "c552f70a",
   "metadata": {},
   "outputs": [
    {
     "name": "stderr",
     "output_type": "stream",
     "text": [
      "C:\\Users\\corts033\\Anaconda3\\lib\\site-packages\\sklearn\\utils\\validation.py:993: DataConversionWarning: A column-vector y was passed when a 1d array was expected. Please change the shape of y to (n_samples, ), for example using ravel().\n",
      "  y = column_or_1d(y, warn=True)\n"
     ]
    },
    {
     "name": "stdout",
     "output_type": "stream",
     "text": [
      "Training Score: 0.750286511066433\n",
      "Validation Score: 0.3841411694313669\n"
     ]
    }
   ],
   "source": [
    "#Run SVR regression using Gausian approach\n",
    "regressor = SVR(kernel = 'rbf')\n",
    "regressor.fit(X_train, y_train)\n",
    "\n",
    "#predict train score\n",
    "test_pred = regressor.predict(X_train)\n",
    "#predict test score\n",
    "test_pred = regressor.predict(X_test)\n",
    "\n",
    "print(f\"Training Score: {regressor.score(X_train, y_train)}\")\n",
    "print(f\"Validation Score: {regressor.score(X_test, y_test)}\")"
   ]
  },
  {
   "cell_type": "code",
   "execution_count": 25,
   "id": "84b0d5ae",
   "metadata": {},
   "outputs": [
    {
     "name": "stderr",
     "output_type": "stream",
     "text": [
      "C:\\Users\\corts033\\Anaconda3\\lib\\site-packages\\sklearn\\utils\\validation.py:993: DataConversionWarning: A column-vector y was passed when a 1d array was expected. Please change the shape of y to (n_samples, ), for example using ravel().\n",
      "  y = column_or_1d(y, warn=True)\n"
     ]
    },
    {
     "name": "stdout",
     "output_type": "stream",
     "text": [
      "Training Score: 0.8309424049377737\n",
      "Validation Score: 0.39810994890738116\n"
     ]
    }
   ],
   "source": [
    "#Run SVR regression using polynomial regressor approach\n",
    "regressor_p = SVR(kernel = 'poly')\n",
    "regressor_p.fit(X_train, y_train)\n",
    "\n",
    "#predict train score\n",
    "test_pred = regressor_p.predict(X_train)\n",
    "#predict test score\n",
    "test_pred = regressor_p.predict(X_test)\n",
    "\n",
    "print(f\"Training Score: {regressor_p.score(X_train, y_train)}\")\n",
    "print(f\"Validation Score: {regressor_p.score(X_test, y_test)}\")"
   ]
  },
  {
   "cell_type": "code",
   "execution_count": 10,
   "id": "881469c4",
   "metadata": {},
   "outputs": [
    {
     "name": "stderr",
     "output_type": "stream",
     "text": [
      "C:\\Users\\corts033\\Anaconda3\\lib\\site-packages\\sklearn\\utils\\validation.py:993: DataConversionWarning: A column-vector y was passed when a 1d array was expected. Please change the shape of y to (n_samples, ), for example using ravel().\n",
      "  y = column_or_1d(y, warn=True)\n"
     ]
    },
    {
     "name": "stdout",
     "output_type": "stream",
     "text": [
      "Training Score: 0.46727083597614816\n",
      "Validation Score: 0.35671928303837674\n"
     ]
    }
   ],
   "source": [
    "#Run SVR regression using linear regressor approach\n",
    "regressor = SVR(kernel = 'linear')\n",
    "regressor.fit(X_train, y_train)\n",
    "#predict train score\n",
    "test_pred = regressor.predict(X_train)\n",
    "#predict test score\n",
    "test_pred = regressor.predict(X_test)\n",
    "\n",
    "print(f\"Training Score: {regressor.score(X_train, y_train)}\")\n",
    "print(f\"Validation Score: {regressor.score(X_test, y_test)}\")"
   ]
  },
  {
   "cell_type": "code",
   "execution_count": 11,
   "id": "cd38301a",
   "metadata": {},
   "outputs": [
    {
     "name": "stderr",
     "output_type": "stream",
     "text": [
      "C:\\Users\\corts033\\AppData\\Local\\Temp\\1\\ipykernel_15992\\2269820127.py:7: DeprecationWarning: Conversion of an array with ndim > 0 to a scalar is deprecated, and will error in future. Ensure you extract a single element from your array before performing this operation. (Deprecated NumPy 1.25.)\n",
      "  y_train = [float(i) for i in y_train]\n"
     ]
    },
    {
     "name": "stdout",
     "output_type": "stream",
     "text": [
      "2533\n",
      "2533\n",
      "0.7505131526512686\n",
      "-0.06404193287597995\n"
     ]
    },
    {
     "data": {
      "image/png": "[encoded data removed]",
      "text/plain": [
       "<Figure size 432x288 with 1 Axes>"
      ]
     },
     "metadata": {
      "needs_background": "light"
     },
     "output_type": "display_data"
    }
   ],
   "source": [
    "#The best model is poly, this will be used to draw the comparisson between predicted vs actual\n",
    "\n",
    "\n",
    "y_train_pred = regressor_p.predict(X_train)\n",
    "\n",
    "#y_train = [item for sublist in y_train for item in sublist]\n",
    "y_train = [float(i) for i in y_train]\n",
    "print(len(y_train))\n",
    "print(len(y_train_pred))\n",
    "plt.scatter(y_train, y_train_pred, alpha=0.5, color='blue')\n",
    "#print([item for sublist in y_train for item in sublist][0:3])\n",
    "#print(y_train_pred[0:3])\n",
    "\n",
    "m, b = np.polyfit(y_train, y_train_pred, 1)\n",
    "print(m)\n",
    "print(b)\n",
    "line_plot = [(m*(i)) + b for i in y_train]\n",
    "plt.plot(y_train, line_plot, color='red')\n",
    "\n",
    "plt.xlabel('Actual Adjusted Revenue')\n",
    "plt.ylabel('Predicted Adjusted Revenue')\n",
    "plt.title('Predicted vs. Actual Target Train (SVR Polynomial)')\n",
    "plt.grid(linewidth=0.5)"
   ]
  },
  {
   "cell_type": "code",
   "execution_count": 27,
   "id": "4c9e389e",
   "metadata": {},
   "outputs": [
    {
     "name": "stdout",
     "output_type": "stream",
     "text": [
      "634\n",
      "634\n",
      "0.34924829601583185\n",
      "-0.09281690700039084\n"
     ]
    },
    {
     "data": {
      "image/png": "[encoded data removed]",
      "text/plain": [
       "<Figure size 432x288 with 1 Axes>"
      ]
     },
     "metadata": {
      "needs_background": "light"
     },
     "output_type": "display_data"
    }
   ],
   "source": [
    "#The best model is poly, this will be used to draw the comparisson between predicted vs actual\n",
    "\n",
    "\n",
    "y_test_pred = regressor_p.predict(X_test)\n",
    "\n",
    "y_test = [item for sublist in y_test for item in sublist]\n",
    "#y_test = [float(i) for i in y_test]\n",
    "print(len(y_test))\n",
    "print(len(y_test_pred))\n",
    "plt.scatter(y_test, y_test_pred, alpha=0.5, color='blue')\n",
    "#print([item for sublist in y_train for item in sublist][0:3])\n",
    "#print(y_train_pred[0:3])\n",
    "\n",
    "m, b = np.polyfit(y_test, y_test_pred, 1)\n",
    "print(m)\n",
    "print(b)\n",
    "line_plot = [(m*(i)) + b for i in y_test]\n",
    "plt.plot(y_test, line_plot, color='red')\n",
    "\n",
    "plt.xlabel('Actual Adjusted Revenue')\n",
    "plt.ylabel('Predicted Adjusted Revenue')\n",
    "plt.title('Predicted vs. Actual Target Test (SVR Polynomial)')\n",
    "plt.grid(linewidth=0.5)"
   ]
  },
  {
   "cell_type": "code",
   "execution_count": null,
   "id": "0448a6d5",
   "metadata": {},
   "outputs": [],
   "source": []
  }
 ],
 "metadata": {
  "kernelspec": {
   "display_name": "Python 3 (ipykernel)",
   "language": "python",
   "name": "python3"
  },
  "language_info": {
   "codemirror_mode": {
    "name": "ipython",
    "version": 3
   },
   "file_extension": ".py",
   "mimetype": "text/x-python",
   "name": "python",
   "nbconvert_exporter": "python",
   "pygments_lexer": "ipython3",
   "version": "3.9.12"
  }
 },
 "nbformat": 4,
 "nbformat_minor": 5
}
